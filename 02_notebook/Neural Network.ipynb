{
 "cells": [
  {
   "cell_type": "code",
   "execution_count": 5,
   "id": "3be426fb",
   "metadata": {},
   "outputs": [],
   "source": [
    "import pandas as pd\n",
    "import numpy as np\n",
    "from keras.models import Sequential\n",
    "from keras.layers import Convolution2D\n",
    "from keras.layers import MaxPooling2D\n",
    "from keras.layers import Dense\n",
    "from keras.layers import Flatten\n",
    "import warnings\n",
    "\n",
    "warnings.filterwarnings('ignore')"
   ]
  },
  {
   "cell_type": "code",
   "execution_count": 6,
   "id": "44840570",
   "metadata": {},
   "outputs": [],
   "source": [
    "%config Completer.use_jedi = False"
   ]
  },
  {
   "cell_type": "code",
   "execution_count": null,
   "id": "4ff0c9d1",
   "metadata": {},
   "outputs": [],
   "source": []
  },
  {
   "cell_type": "markdown",
   "id": "993d9200",
   "metadata": {},
   "source": [
    "# Load Data"
   ]
  },
  {
   "cell_type": "code",
   "execution_count": 12,
   "id": "0903e194",
   "metadata": {},
   "outputs": [],
   "source": [
    "data_train = '../../../data/hackaton/dataset_hackaton/Training'\n",
    "data_test = '../../../data/hackaton/dataset_hackaton/Test'"
   ]
  },
  {
   "cell_type": "code",
   "execution_count": 13,
   "id": "c8e91419",
   "metadata": {},
   "outputs": [],
   "source": [
    "from keras.preprocessing.image import ImageDataGenerator\n",
    "train_datagen = ImageDataGenerator(rescale = 1./255,\n",
    "                                   shear_range = 0.2,\n",
    "                                   zoom_range = 0.2,\n",
    "                                   horizontal_flip = True)\n",
    "test_datagen = ImageDataGenerator(rescale = 1./255)"
   ]
  },
  {
   "cell_type": "code",
   "execution_count": 14,
   "id": "eaaf2835",
   "metadata": {},
   "outputs": [
    {
     "name": "stdout",
     "output_type": "stream",
     "text": [
      "Found 7041 images belonging to 9 classes.\n"
     ]
    }
   ],
   "source": [
    "training_set = train_datagen.flow_from_directory(data_train,\n",
    "                                                 target_size = (64, 64),\n",
    "                                                 batch_size = 50,\n",
    "                                                 class_mode = 'binary')"
   ]
  },
  {
   "cell_type": "code",
   "execution_count": 16,
   "id": "bc203233",
   "metadata": {},
   "outputs": [
    {
     "name": "stdout",
     "output_type": "stream",
     "text": [
      "Found 3741 images belonging to 9 classes.\n"
     ]
    }
   ],
   "source": [
    "test_set = test_datagen.flow_from_directory(data_test,\n",
    "                                            target_size = (64, 64),\n",
    "                                            batch_size = 50,\n",
    "                                            class_mode = 'binary')"
   ]
  },
  {
   "cell_type": "markdown",
   "id": "84147061",
   "metadata": {},
   "source": [
    "# VGG16"
   ]
  },
  {
   "cell_type": "code",
   "execution_count": 32,
   "id": "6ad80b9e",
   "metadata": {},
   "outputs": [
    {
     "ename": "SyntaxError",
     "evalue": "invalid character in identifier (<ipython-input-32-f5764ccded83>, line 5)",
     "output_type": "error",
     "traceback": [
      "\u001b[0;36m  File \u001b[0;32m\"<ipython-input-32-f5764ccded83>\"\u001b[0;36m, line \u001b[0;32m5\u001b[0m\n\u001b[0;31m    model.add(Conv2D(input_shape=(224,224,3),filters=64,kernel_size=(3,3),padding=”same”, activation=”relu”))\u001b[0m\n\u001b[0m                                                                                       ^\u001b[0m\n\u001b[0;31mSyntaxError\u001b[0m\u001b[0;31m:\u001b[0m invalid character in identifier\n"
     ]
    }
   ],
   "source": [
    "def VGG16():\n",
    "\n",
    "    model = Sequential()\n",
    "\n",
    "    model.add(Conv2D(input_shape=(224,224,3),filters=64,kernel_size=(3,3),padding=”same”, activation=”relu”))\n",
    "\n",
    "    model.add(Conv2D(filters=64,kernel_size=(3,3),padding=”same”, activation=”relu”))\n",
    "\n",
    "    model.add(MaxPool2D(pool_size=(2,2),strides=(2,2)))\n",
    "\n",
    "    model.add(Conv2D(filters=128, kernel_size=(3,3), padding=\"same”, activation=”relu”))\n",
    "\n",
    "    model.add(Conv2D(filters=128, kernel_size=(3,3), padding=”same”, activation=”relu”))\n",
    "\n",
    "    model.add(MaxPool2D(pool_size=(2,2),strides=(2,2)))\n",
    "\n",
    "    model.add(Conv2D(filters=256, kernel_size=(3,3), padding=”same”, activation=”relu”))\n",
    "\n",
    "    model.add(Conv2D(filters=256, kernel_size=(3,3), padding=”same”, activation=”relu”))\n",
    "\n",
    "    model.add(Conv2D(filters=256, kernel_size=(3,3), padding=”same”, activation=”relu”))\n",
    "\n",
    "    model.add(MaxPool2D(pool_size=(2,2),strides=(2,2)))\n",
    "\n",
    "    model.add(Conv2D(filters=512, kernel_size=(3,3), padding=”same”, activation=”relu”))\n",
    "\n",
    "    model.add(Conv2D(filters=512, kernel_size=(3,3), padding=”same”, activation=”relu”))\n",
    "\n",
    "    model.add(Conv2D(filters=512, kernel_size=(3,3), padding=”same”, activation=”relu”))\n",
    "\n",
    "    model.add(MaxPool2D(pool_size=(2,2),strides=(2,2)))\n",
    "\n",
    "    model.add(Conv2D(filters=512, kernel_size=(3,3), padding=”same”, activation=”relu”))\n",
    "\n",
    "    model.add(Conv2D(filters=512, kernel_size=(3,3), padding=”same”, activation=”relu”))\n",
    "\n",
    "    model.add(Conv2D(filters=512, kernel_size=(3,3), padding=”same”, activation=”relu”))\n",
    "\n",
    "    model.add(MaxPool2D(pool_size=(2,2),strides=(2,2),name=’vgg16'))\n",
    "\n",
    "    model.add(Flatten(name=’flatten’))\n",
    "\n",
    "    model.add(Dense(256, activation=’relu’, name=’fc1'))\n",
    "\n",
    "    model.add(Dense(128, activation=’relu’, name=’fc2'))\n",
    "\n",
    "    model.add(Dense(9, activation=’softmax’, name=’output’))\n",
    "                    \n",
    "    return model"
   ]
  },
  {
   "cell_type": "code",
   "execution_count": null,
   "id": "8d0805b8",
   "metadata": {},
   "outputs": [],
   "source": [
    "model=VGG16()\n",
    "\n",
    "model.summary()\n",
    "\n",
    "Vgg16 = Model(inputs=model.input, outputs=model.get_layer(‘vgg16’).output)"
   ]
  },
  {
   "cell_type": "markdown",
   "id": "7d13fb0b",
   "metadata": {},
   "source": [
    "# Compilation Step"
   ]
  },
  {
   "cell_type": "code",
   "execution_count": 19,
   "id": "8b777117",
   "metadata": {},
   "outputs": [
    {
     "name": "stdout",
     "output_type": "stream",
     "text": [
      "WARNING:tensorflow:From /usr/local/lib/python3.6/dist-packages/tensorflow/python/ops/nn_impl.py:180: add_dispatch_support.<locals>.wrapper (from tensorflow.python.ops.array_ops) is deprecated and will be removed in a future version.\n",
      "Instructions for updating:\n",
      "Use tf.where in 2.0, which has the same broadcast rule as np.where\n"
     ]
    }
   ],
   "source": [
    "classifier.compile(optimizer='Adam',\n",
    "               loss='binary_crossentropy',\n",
    "               metrics=['accuracy'])"
   ]
  },
  {
   "cell_type": "markdown",
   "id": "52b7bb18",
   "metadata": {},
   "source": [
    "# Network summary"
   ]
  },
  {
   "cell_type": "code",
   "execution_count": 20,
   "id": "fb6d3a8d",
   "metadata": {
    "scrolled": true
   },
   "outputs": [
    {
     "name": "stdout",
     "output_type": "stream",
     "text": [
      "Model: \"sequential_1\"\n",
      "_________________________________________________________________\n",
      "Layer (type)                 Output Shape              Param #   \n",
      "=================================================================\n",
      "conv2d_1 (Conv2D)            (None, 62, 62, 32)        896       \n",
      "_________________________________________________________________\n",
      "max_pooling2d_1 (MaxPooling2 (None, 31, 31, 32)        0         \n",
      "_________________________________________________________________\n",
      "flatten_1 (Flatten)          (None, 30752)             0         \n",
      "_________________________________________________________________\n",
      "dense_1 (Dense)              (None, 128)               3936384   \n",
      "_________________________________________________________________\n",
      "dense_2 (Dense)              (None, 1)                 129       \n",
      "=================================================================\n",
      "Total params: 3,937,409\n",
      "Trainable params: 3,937,409\n",
      "Non-trainable params: 0\n",
      "_________________________________________________________________\n"
     ]
    }
   ],
   "source": [
    "classifier.summary()"
   ]
  },
  {
   "cell_type": "code",
   "execution_count": 28,
   "id": "0aa5fb23",
   "metadata": {},
   "outputs": [],
   "source": [
    "import os\n",
    "os.environ[\"CUDA_VISIBLE_DEVICES\"]=\"0\""
   ]
  },
  {
   "cell_type": "code",
   "execution_count": 29,
   "id": "c1ed7c08",
   "metadata": {},
   "outputs": [
    {
     "name": "stdout",
     "output_type": "stream",
     "text": [
      "WARNING:tensorflow:From /usr/local/lib/python3.6/dist-packages/keras/backend/tensorflow_backend.py:422: The name tf.global_variables is deprecated. Please use tf.compat.v1.global_variables instead.\n",
      "\n",
      "Epoch 1/5\n",
      "320/320 [==============================] - 39s 122ms/step - loss: -4702619.6321 - accuracy: 0.1121 - val_loss: -25032922.0000 - val_accuracy: 0.1053\n",
      "Epoch 2/5\n",
      "320/320 [==============================] - 35s 111ms/step - loss: -79116372.8342 - accuracy: 0.1128 - val_loss: -147180944.0000 - val_accuracy: 0.1053\n",
      "Epoch 3/5\n",
      "320/320 [==============================] - 37s 114ms/step - loss: -346712808.2830 - accuracy: 0.1128 - val_loss: -540576000.0000 - val_accuracy: 0.1060\n",
      "Epoch 4/5\n",
      "320/320 [==============================] - 35s 110ms/step - loss: -896389823.0276 - accuracy: 0.1121 - val_loss: -1328658816.0000 - val_accuracy: 0.1040\n",
      "Epoch 5/5\n",
      "320/320 [==============================] - 36s 111ms/step - loss: -1800142353.4831 - accuracy: 0.1118 - val_loss: -2374976000.0000 - val_accuracy: 0.1046\n"
     ]
    }
   ],
   "source": [
    "history = classifier.fit_generator(training_set, steps_per_epoch=320,validation_data=test_set, validation_steps=90, epochs=5, verbose=1)"
   ]
  },
  {
   "cell_type": "code",
   "execution_count": 31,
   "id": "ee19ee27",
   "metadata": {},
   "outputs": [
    {
     "name": "stdout",
     "output_type": "stream",
     "text": [
      "dict_keys(['val_loss', 'val_accuracy', 'loss', 'accuracy'])\n"
     ]
    },
    {
     "data": {
      "image/png": "[encoded data removed]",
      "text/plain": [
       "<Figure size 432x288 with 1 Axes>"
      ]
     },
     "metadata": {
      "needs_background": "light"
     },
     "output_type": "display_data"
    },
    {
     "data": {
      "image/png": "[encoded data removed]",
      "text/plain": [
       "<Figure size 432x288 with 1 Axes>"
      ]
     },
     "metadata": {
      "needs_background": "light"
     },
     "output_type": "display_data"
    }
   ],
   "source": [
    "import matplotlib.pyplot as plt\n",
    "from matplotlib.image import imread\n",
    "\n",
    "# list all data in history\n",
    "print(history.history.keys())\n",
    "# summarize history for accuracy\n",
    "plt.plot(history.history['accuracy'])\n",
    "plt.plot(history.history['val_accuracy'])\n",
    "plt.title('model accuracy')\n",
    "plt.ylabel('accuracy')\n",
    "plt.xlabel('epoch')\n",
    "plt.legend(['train', 'validation'], loc='upper left')\n",
    "plt.show()\n",
    "# summarize history for loss\n",
    "plt.plot(history.history['loss'])\n",
    "plt.plot(history.history['val_loss'])\n",
    "plt.title('model loss')\n",
    "plt.ylabel('loss')\n",
    "plt.xlabel('epoch')\n",
    "plt.legend(['train', 'validation'], loc='upper left')\n",
    "plt.show()"
   ]
  },
  {
   "cell_type": "code",
   "execution_count": null,
   "id": "88818b5a",
   "metadata": {},
   "outputs": [],
   "source": []
  }
 ],
 "metadata": {
  "kernelspec": {
   "display_name": "Python 3",
   "language": "python",
   "name": "python3"
  },
  "language_info": {
   "codemirror_mode": {
    "name": "ipython",
    "version": 3
   },
   "file_extension": ".py",
   "mimetype": "text/x-python",
   "name": "python",
   "nbconvert_exporter": "python",
   "pygments_lexer": "ipython3",
   "version": "3.6.9"
  }
 },
 "nbformat": 4,
 "nbformat_minor": 5
}
