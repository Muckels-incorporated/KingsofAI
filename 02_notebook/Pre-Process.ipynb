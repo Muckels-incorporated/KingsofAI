{
 "cells": [
  {
   "cell_type": "code",
   "execution_count": 6,
   "metadata": {},
   "outputs": [],
   "source": [
    "from os import makedirs\n",
    "from os import listdir\n",
    "from shutil import copyfile\n",
    "from random import seed\n",
    "from random import random "
   ]
  },
  {
   "cell_type": "code",
   "execution_count": 8,
   "metadata": {
    "scrolled": true
   },
   "outputs": [
    {
     "name": "stdout",
     "output_type": "stream",
     "text": [
      "Test\n",
      "Training\n"
     ]
    },
    {
     "ename": "OSError",
     "evalue": "[WinError 123] The filename, directory name, or volume label syntax is incorrect: '..\\\\data\\x0cruits-360_dataset\\x0cruits-360\\\\Training'",
     "output_type": "error",
     "traceback": [
      "\u001b[1;31m---------------------------------------------------------------------------\u001b[0m",
      "\u001b[1;31mOSError\u001b[0m                                   Traceback (most recent call last)",
      "\u001b[1;32m<ipython-input-8-1547fe1597f9>\u001b[0m in \u001b[0;36m<module>\u001b[1;34m\u001b[0m\n\u001b[0;32m     27\u001b[0m         \u001b[0mmakedirs\u001b[0m\u001b[1;33m(\u001b[0m\u001b[0mdst_test\u001b[0m \u001b[1;33m+\u001b[0m \u001b[0mname\u001b[0m\u001b[1;33m,\u001b[0m \u001b[0mexist_ok\u001b[0m\u001b[1;33m=\u001b[0m\u001b[1;32mTrue\u001b[0m\u001b[1;33m)\u001b[0m\u001b[1;33m\u001b[0m\u001b[1;33m\u001b[0m\u001b[0m\n\u001b[0;32m     28\u001b[0m \u001b[1;33m\u001b[0m\u001b[0m\n\u001b[1;32m---> 29\u001b[1;33m \u001b[1;32mfor\u001b[0m \u001b[0mpath\u001b[0m \u001b[1;32min\u001b[0m \u001b[0mlistdir\u001b[0m\u001b[1;33m(\u001b[0m\u001b[0msrc_dataset\u001b[0m\u001b[1;33m)\u001b[0m\u001b[1;33m:\u001b[0m\u001b[1;33m\u001b[0m\u001b[1;33m\u001b[0m\u001b[0m\n\u001b[0m\u001b[0;32m     30\u001b[0m     \u001b[1;31m# create label subdirectories\u001b[0m\u001b[1;33m\u001b[0m\u001b[1;33m\u001b[0m\u001b[1;33m\u001b[0m\u001b[0m\n\u001b[0;32m     31\u001b[0m \u001b[1;33m\u001b[0m\u001b[0m\n",
      "\u001b[1;31mOSError\u001b[0m: [WinError 123] The filename, directory name, or volume label syntax is incorrect: '..\\\\data\\x0cruits-360_dataset\\x0cruits-360\\\\Training'"
     ]
    }
   ],
   "source": [
    "src_dataset = '..\\data\\fruits-360_dataset\\fruits-360\\Training'\n",
    "src_dataset_test = '..\\data\\fruits-360_dataset\\fruits-360\\Test'\n",
    "subdirs = ['Training', 'Test']\n",
    "\n",
    "\n",
    "fruitdirs = ['appels', \"Appelsienen\" , 'bananen', 'Druiventrossen', 'Kiwis', 'Mandarijnen', 'Nectarines', 'Peren', 'Pruimen']\n",
    "Fruit_names_eng = ['Apple', 'Orange', 'Banana', 'Grape', 'Kiwi', 'Mandarin', 'Nectarine', 'Pear', 'Plum']\n",
    "\n",
    "counter = []\n",
    "\n",
    "dst_dataset = '../data/dataset_hackaton/'\n",
    "\n",
    "# seed random number generator\n",
    "seed(1)\n",
    "# define ratio of pictures to use for validation\n",
    "val_ratio = 0.25\n",
    "\n",
    "for path in listdir(dst_dataset):\n",
    "    print(path)\n",
    "\n",
    "# create subdir\n",
    "\n",
    "for name in Fruit_names_eng:\n",
    "        dst_train = dst_dataset + 'Training' + '\\\\'\n",
    "        makedirs(dst_train + name, exist_ok=True)\n",
    "        dst_test = dst_dataset + 'Test' + '\\\\'\n",
    "        makedirs(dst_test + name, exist_ok=True)\n",
    "\n",
    "for path in listdir(src_dataset):\n",
    "    # create label subdirectories\n",
    "    \n",
    "    for name in Fruit_names_eng:\n",
    "        if path.startswith(name):\n",
    "\n",
    "            for img in listdir(src_dataset + '\\\\' + path):\n",
    "                src = src_dataset + '\\\\' + path + '\\\\' + img\n",
    "                dst = dst_dataset + 'Training' + '\\\\' + name + '/' + img\n",
    "                copyfile(src, dst)\n",
    "                \n",
    "for path in listdir(src_dataset_test):\n",
    "    # create label subdirectories\n",
    "    \n",
    "    for name in Fruit_names_eng:\n",
    "        if path.startswith(name):\n",
    "\n",
    "            for img in listdir(src_dataset_test + '\\\\' + path):\n",
    "                src = src_dataset_test + '\\\\' + path + '\\\\' + img\n",
    "                dst = dst_dataset + 'Test' + '\\\\' + name + '\\\\' + img\n",
    "                copyfile(src, dst)\n",
    "    "
   ]
  },
  {
   "cell_type": "code",
   "execution_count": null,
   "metadata": {},
   "outputs": [],
   "source": []
  }
 ],
 "metadata": {
  "kernelspec": {
   "display_name": "Python 3",
   "language": "python",
   "name": "python3"
  },
  "language_info": {
   "codemirror_mode": {
    "name": "ipython",
    "version": 3
   },
   "file_extension": ".py",
   "mimetype": "text/x-python",
   "name": "python",
   "nbconvert_exporter": "python",
   "pygments_lexer": "ipython3",
   "version": "3.8.5"
  }
 },
 "nbformat": 4,
 "nbformat_minor": 5
}
